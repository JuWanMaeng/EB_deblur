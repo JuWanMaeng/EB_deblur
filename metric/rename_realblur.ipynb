{
 "cells": [
  {
   "cell_type": "code",
   "execution_count": 3,
   "metadata": {},
   "outputs": [
    {
     "name": "stdout",
     "output_type": "stream",
     "text": [
      "980\n"
     ]
    }
   ],
   "source": [
    "import os,glob, shutil\n",
    "\n",
    "folder_path = '/workspace/FFTformer/results/RealBlur-J/NAFNet_cross_640k'\n",
    "folder = os.listdir(folder_path)\n",
    "folder.sort()\n",
    "print(len(folder))"
   ]
  },
  {
   "cell_type": "code",
   "execution_count": 4,
   "metadata": {},
   "outputs": [],
   "source": [
    "dst_folder = '/workspace/FFTformer/results/my'\n",
    "os.makedirs(dst_folder,exist_ok=True)\n",
    "\n",
    "for img in folder:\n",
    "    out_path = os.path.join(folder_path,img,'out.png')\n",
    "    splits = img.split('_')  # scene002_blur_10.png\n",
    "    scene = splits[0]\n",
    "    img_id = splits[-1]\n",
    "    new_img_name = f'{scene}-{img_id}'\n",
    "\n",
    "    new_path = os.path.join(dst_folder,new_img_name)\n",
    "    shutil.copy(out_path,new_path)\n",
    "\n",
    "    "
   ]
  },
  {
   "cell_type": "code",
   "execution_count": null,
   "metadata": {},
   "outputs": [],
   "source": []
  }
 ],
 "metadata": {
  "kernelspec": {
   "display_name": "deblur",
   "language": "python",
   "name": "python3"
  },
  "language_info": {
   "codemirror_mode": {
    "name": "ipython",
    "version": 3
   },
   "file_extension": ".py",
   "mimetype": "text/x-python",
   "name": "python",
   "nbconvert_exporter": "python",
   "pygments_lexer": "ipython3",
   "version": "3.8.19"
  }
 },
 "nbformat": 4,
 "nbformat_minor": 2
}
