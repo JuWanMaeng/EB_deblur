{
 "cells": [
  {
   "cell_type": "code",
   "execution_count": 2,
   "metadata": {},
   "outputs": [
    {
     "name": "stdout",
     "output_type": "stream",
     "text": [
      "Created new group: 'gen_event_fft'\n",
      "Created new group: 'gen_event_fft'\n",
      "Created new group: 'gen_event_fft'\n",
      "Created new group: 'gen_event_fft'\n",
      "Created new group: 'gen_event_fft'\n",
      "Created new group: 'gen_event_fft'\n",
      "Created new group: 'gen_event_fft'\n",
      "Created new group: 'gen_event_fft'\n",
      "Created new group: 'gen_event_fft'\n",
      "Created new group: 'gen_event_fft'\n",
      "Created new group: 'gen_event_fft'\n"
     ]
    }
   ],
   "source": [
    "import h5py\n",
    "import numpy as np\n",
    "import os\n",
    "\n",
    "my_data_path = '/workspace/data/FFTformer/results/Gopro_test/visualization'\n",
    "\n",
    "\n",
    "root_path = '/workspace/data/GOPRO/test'\n",
    "h5_folder = os.listdir(root_path)\n",
    "h5_folder.sort()\n",
    "\n",
    "for h5 in h5_folder:\n",
    "    h5_path = os.path.join(root_path, h5)\n",
    "    h5_name = h5[:-3]   # GOPR0384_11_00\n",
    "    with h5py.File(h5_path, 'a') as f:\n",
    "        imgs = f['images']\n",
    "\n",
    "        if 'gen_event_fft' not in f:\n",
    "            gen_event_group = f.create_group('gen_event_fft')\n",
    "            print(\"Created new group: 'gen_event_fft'\")\n",
    "        else:\n",
    "            gen_event_group = f['gen_event_fft']\n",
    "            print(\"Group 'gen_event_fft' already exists.\")\n",
    "\n",
    "        # 각 이미지에 대응하는 gen_event 데이터 생성 및 저장\n",
    "        for img in imgs:\n",
    "            blur_img = imgs[f'{img}'][:]  # 이미지 데이터 불러오기\n",
    "\n",
    "            number = img[8:]\n",
    "            gen_event_key = f'image{number}'\n",
    "            gen_event_path = os.path.join(my_data_path, h5_name, gen_event_key, 'out.npy' )\n",
    "            gen_event_data = np.load(gen_event_path)\n",
    "            gen_event_data = gen_event_data.transpose(2,0,1)\n",
    "            # print(np.min(gen_event_data), np.max(gen_event_data), gen_event_data.shape)\n",
    "\n",
    "\n",
    "            gen_event_group.create_dataset(f'{img}', data=gen_event_data, dtype=np.float32)\n",
    " \n",
    "\n",
    "        #     break\n",
    "        # break"
   ]
  },
  {
   "cell_type": "code",
   "execution_count": null,
   "metadata": {},
   "outputs": [],
   "source": [
    "import h5py\n",
    "import numpy as np\n",
    "import os\n",
    "\n",
    "root_path = '/workspace/data/GOPRO/train'\n",
    "h5_folder = os.listdir(root_path)\n",
    "h5_folder.sort()\n",
    "\n",
    "for h5 in h5_folder:\n",
    "    h5_path = os.path.join(root_path, h5)\n",
    "    with h5py.File(h5_path, 'a') as f:\n",
    "        print(f\"\\n### Inspecting file: {h5} ###\")\n",
    "        print(\"Existing keys:\", list(f.keys()))\n",
    "        \n",
    "        # 'images' 그룹에서 blur 이미지 불러오기\n",
    "        imgs = f['images']\n",
    "        gen_event = f['gen_event']\n",
    "\n",
    "        for event in gen_event:\n",
    "            event_data = gen_event[f'{event}'][:]\n",
    "            print(event)\n",
    "        print(event_data.shape)\n",
    "        \n",
    "        break    \n",
    "\n",
    "        # # 각 이미지에 대응하는 flow 데이터 생성 및 저장\n",
    "        # for img in imgs:\n",
    "        #     print(f\"Processing image: {img}\")\n",
    "        #     blur_img = imgs[f'{img}'][:]  # 이미지 데이터 불러오기\n",
    "\n",
    "        #     # 새 flow 데이터 생성 (예: 2채널 랜덤 flow)\n",
    "        #     flow_data = np.random.random((blur_img.shape[0], blur_img.shape[1], 2))  # H x W x 2\n",
    " \n",
    "        #     # flow 데이터 저장\n",
    "        #     flow_group.create_dataset(f'{img}', data=flow_data, dtype=np.float32)\n",
    "        #     print(f\"Added flow data for {img} to 'flow' group.\")\n",
    "\n",
    "        #     break\n",
    "        # break"
   ]
  },
  {
   "cell_type": "markdown",
   "metadata": {},
   "source": [
    "# data 제거"
   ]
  },
  {
   "cell_type": "code",
   "execution_count": null,
   "metadata": {},
   "outputs": [],
   "source": [
    "import h5py\n",
    "import os\n",
    "\n",
    "root_path = '/workspace/data/GOPRO/train'\n",
    "h5_folder = os.listdir(root_path)\n",
    "h5_folder.sort()\n",
    "\n",
    "for h5 in h5_folder:\n",
    "    h5_path = os.path.join(root_path, h5)\n",
    "    with h5py.File(h5_path, 'a') as f:\n",
    "        print(f\"\\n### Inspecting file: {h5} ###\")\n",
    "        print(\"Existing keys before deletion:\", list(f.keys()))\n",
    "        \n",
    "        \n",
    "        if 'gen_event_L2fft' in f:\n",
    "            del f['gen_event_L2fft']  # 그룹 또는 데이터셋 삭제\n",
    "            print(\"Deleted 'gen_event_L2fft' group.\")\n",
    "        else:\n",
    "            print(\"Group 'gen_event_L2fft' does not exist.\")\n",
    "        \n",
    "        print(\"Existing keys after deletion:\", list(f.keys()))\n"
   ]
  }
 ],
 "metadata": {
  "kernelspec": {
   "display_name": "deblur",
   "language": "python",
   "name": "python3"
  },
  "language_info": {
   "codemirror_mode": {
    "name": "ipython",
    "version": 3
   },
   "file_extension": ".py",
   "mimetype": "text/x-python",
   "name": "python",
   "nbconvert_exporter": "python",
   "pygments_lexer": "ipython3",
   "version": "3.8.19"
  }
 },
 "nbformat": 4,
 "nbformat_minor": 2
}
